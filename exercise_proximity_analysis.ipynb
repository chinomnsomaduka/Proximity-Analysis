{
  "nbformat": 4,
  "nbformat_minor": 0,
  "metadata": {
    "kernelspec": {
      "display_name": "Python 3",
      "language": "python",
      "name": "python3"
    },
    "language_info": {
      "name": "python",
      "version": "3.7.10",
      "mimetype": "text/x-python",
      "codemirror_mode": {
        "name": "ipython",
        "version": 3
      },
      "pygments_lexer": "ipython3",
      "nbconvert_exporter": "python",
      "file_extension": ".py"
    },
    "colab": {
      "name": "exercise-proximity-analysis.ipynb",
      "provenance": []
    }
  },
  "cells": [
    {
      "cell_type": "markdown",
      "metadata": {
        "id": "ZaOoM2o7iFbG"
      },
      "source": [
        "# Introduction \n",
        "\n",
        "You are part of a crisis response team, and you want to identify how hospitals have been responding to crash collisions in New York City.\n",
        "\n",
        "<center>\n",
        "<img src=\"https://i.imgur.com/wamd0n7.png\" width=\"450\"><br/>\n",
        "</center>\n",
        "\n",
        "Before you get started, run the code cell below to set everything up."
      ]
    },
    {
      "cell_type": "code",
      "metadata": {
        "execution": {
          "iopub.status.busy": "2021-08-20T03:03:46.469189Z",
          "iopub.execute_input": "2021-08-20T03:03:46.469538Z",
          "iopub.status.idle": "2021-08-20T03:03:46.476438Z",
          "shell.execute_reply.started": "2021-08-20T03:03:46.469507Z",
          "shell.execute_reply": "2021-08-20T03:03:46.475174Z"
        },
        "trusted": true,
        "id": "Pmv_eQeHiFbI"
      },
      "source": [
        "import math\n",
        "import geopandas as gpd\n",
        "import pandas as pd\n",
        "from shapely.geometry import MultiPolygon\n",
        "\n",
        "import folium\n",
        "from folium import Choropleth, Marker\n",
        "from folium.plugins import HeatMap, MarkerCluster"
      ],
      "execution_count": null,
      "outputs": []
    },
    {
      "cell_type": "markdown",
      "metadata": {
        "id": "m4E92lGEiFbK"
      },
      "source": [
        "You'll use the `embed_map()` function to visualize your maps."
      ]
    },
    {
      "cell_type": "code",
      "metadata": {
        "execution": {
          "iopub.status.busy": "2021-08-20T03:03:46.478421Z",
          "iopub.execute_input": "2021-08-20T03:03:46.478854Z",
          "iopub.status.idle": "2021-08-20T03:03:46.490267Z",
          "shell.execute_reply.started": "2021-08-20T03:03:46.478809Z",
          "shell.execute_reply": "2021-08-20T03:03:46.489321Z"
        },
        "trusted": true,
        "id": "VS9izJp2iFbL"
      },
      "source": [
        "def embed_map(m, file_name):\n",
        "    from IPython.display import IFrame\n",
        "    m.save(file_name)\n",
        "    return IFrame(file_name, width='100%', height='500px')"
      ],
      "execution_count": null,
      "outputs": []
    },
    {
      "cell_type": "markdown",
      "metadata": {
        "id": "29zOg3gViFbM"
      },
      "source": [
        "# Exercises\n",
        "\n",
        "### 1) Visualize the collision data.\n",
        "\n",
        "Run the code cell below to load a GeoDataFrame `collisions` tracking major motor vehicle collisions in 2013-2018."
      ]
    },
    {
      "cell_type": "code",
      "metadata": {
        "execution": {
          "iopub.status.busy": "2021-08-20T03:03:46.491782Z",
          "iopub.execute_input": "2021-08-20T03:03:46.492244Z",
          "iopub.status.idle": "2021-08-20T03:04:10.424030Z",
          "shell.execute_reply.started": "2021-08-20T03:03:46.492202Z",
          "shell.execute_reply": "2021-08-20T03:04:10.422950Z"
        },
        "trusted": true,
        "id": "8quxw4rniFbM",
        "outputId": "0be801f5-7467-4934-a89b-212ddcf635b9"
      },
      "source": [
        "collisions = gpd.read_file(\"../input/geospatial-learn-course-data/NYPD_Motor_Vehicle_Collisions/NYPD_Motor_Vehicle_Collisions/NYPD_Motor_Vehicle_Collisions.shp\")\n",
        "collisions.head()"
      ],
      "execution_count": null,
      "outputs": [
        {
          "execution_count": 12,
          "output_type": "execute_result",
          "data": {
            "text/plain": "         DATE   TIME    BOROUGH ZIP CODE   LATITUDE  LONGITUDE  \\\n0  07/30/2019   0:00      BRONX    10464  40.841100 -73.784960   \n1  07/30/2019   0:10     QUEENS    11423  40.710827 -73.770660   \n2  07/30/2019   0:25       None     None  40.880318 -73.841286   \n3  07/30/2019   0:35  MANHATTAN    10036  40.756744 -73.984590   \n4  07/30/2019  10:00   BROOKLYN    11223  40.600090 -73.965910   \n\n                  LOCATION       ON STREET     CROSS STRE  \\\n0     (40.8411, -73.78496)            None           None   \n1   (40.710827, -73.77066)  JAMAICA AVENUE     188 STREET   \n2  (40.880318, -73.841286)     BOSTON ROAD           None   \n3   (40.756744, -73.98459)            None           None   \n4    (40.60009, -73.96591)        AVENUE T  OCEAN PARKWAY   \n\n                 OFF STREET  ...   CONTRIBU_2  CONTRIBU_3  CONTRIBU_4  \\\n0    121       PILOT STREET  ...  Unspecified        None        None   \n1                      None  ...         None        None        None   \n2                      None  ...         None        None        None   \n3  155       WEST 44 STREET  ...         None        None        None   \n4                      None  ...         None        None        None   \n\n   UNIQUE KEY                           VEHICLE TY  \\\n0     4180045                                Sedan   \n1     4180007                                Sedan   \n2     4179575                                Sedan   \n3     4179544                            Box Truck   \n4     4180660  Station Wagon/Sport Utility Vehicle   \n\n                            VEHICLE _1                           VEHICLE _2  \\\n0  Station Wagon/Sport Utility Vehicle  Station Wagon/Sport Utility Vehicle   \n1                                Sedan                                 None   \n2  Station Wagon/Sport Utility Vehicle                                 None   \n3  Station Wagon/Sport Utility Vehicle                                 None   \n4                                 Bike                                 None   \n\n   VEHICLE _3 VEHICLE _4                        geometry  \n0        None       None  POINT (1043750.211 245785.815)  \n1        None       None  POINT (1047831.185 198333.171)  \n2        None       None  POINT (1028139.293 260041.178)  \n3        None       None   POINT (988519.261 214979.320)  \n4        None       None   POINT (993716.669 157907.212)  \n\n[5 rows x 30 columns]",
            "text/html": "<div>\n<style scoped>\n    .dataframe tbody tr th:only-of-type {\n        vertical-align: middle;\n    }\n\n    .dataframe tbody tr th {\n        vertical-align: top;\n    }\n\n    .dataframe thead th {\n        text-align: right;\n    }\n</style>\n<table border=\"1\" class=\"dataframe\">\n  <thead>\n    <tr style=\"text-align: right;\">\n      <th></th>\n      <th>DATE</th>\n      <th>TIME</th>\n      <th>BOROUGH</th>\n      <th>ZIP CODE</th>\n      <th>LATITUDE</th>\n      <th>LONGITUDE</th>\n      <th>LOCATION</th>\n      <th>ON STREET</th>\n      <th>CROSS STRE</th>\n      <th>OFF STREET</th>\n      <th>...</th>\n      <th>CONTRIBU_2</th>\n      <th>CONTRIBU_3</th>\n      <th>CONTRIBU_4</th>\n      <th>UNIQUE KEY</th>\n      <th>VEHICLE TY</th>\n      <th>VEHICLE _1</th>\n      <th>VEHICLE _2</th>\n      <th>VEHICLE _3</th>\n      <th>VEHICLE _4</th>\n      <th>geometry</th>\n    </tr>\n  </thead>\n  <tbody>\n    <tr>\n      <th>0</th>\n      <td>07/30/2019</td>\n      <td>0:00</td>\n      <td>BRONX</td>\n      <td>10464</td>\n      <td>40.841100</td>\n      <td>-73.784960</td>\n      <td>(40.8411, -73.78496)</td>\n      <td>None</td>\n      <td>None</td>\n      <td>121       PILOT STREET</td>\n      <td>...</td>\n      <td>Unspecified</td>\n      <td>None</td>\n      <td>None</td>\n      <td>4180045</td>\n      <td>Sedan</td>\n      <td>Station Wagon/Sport Utility Vehicle</td>\n      <td>Station Wagon/Sport Utility Vehicle</td>\n      <td>None</td>\n      <td>None</td>\n      <td>POINT (1043750.211 245785.815)</td>\n    </tr>\n    <tr>\n      <th>1</th>\n      <td>07/30/2019</td>\n      <td>0:10</td>\n      <td>QUEENS</td>\n      <td>11423</td>\n      <td>40.710827</td>\n      <td>-73.770660</td>\n      <td>(40.710827, -73.77066)</td>\n      <td>JAMAICA AVENUE</td>\n      <td>188 STREET</td>\n      <td>None</td>\n      <td>...</td>\n      <td>None</td>\n      <td>None</td>\n      <td>None</td>\n      <td>4180007</td>\n      <td>Sedan</td>\n      <td>Sedan</td>\n      <td>None</td>\n      <td>None</td>\n      <td>None</td>\n      <td>POINT (1047831.185 198333.171)</td>\n    </tr>\n    <tr>\n      <th>2</th>\n      <td>07/30/2019</td>\n      <td>0:25</td>\n      <td>None</td>\n      <td>None</td>\n      <td>40.880318</td>\n      <td>-73.841286</td>\n      <td>(40.880318, -73.841286)</td>\n      <td>BOSTON ROAD</td>\n      <td>None</td>\n      <td>None</td>\n      <td>...</td>\n      <td>None</td>\n      <td>None</td>\n      <td>None</td>\n      <td>4179575</td>\n      <td>Sedan</td>\n      <td>Station Wagon/Sport Utility Vehicle</td>\n      <td>None</td>\n      <td>None</td>\n      <td>None</td>\n      <td>POINT (1028139.293 260041.178)</td>\n    </tr>\n    <tr>\n      <th>3</th>\n      <td>07/30/2019</td>\n      <td>0:35</td>\n      <td>MANHATTAN</td>\n      <td>10036</td>\n      <td>40.756744</td>\n      <td>-73.984590</td>\n      <td>(40.756744, -73.98459)</td>\n      <td>None</td>\n      <td>None</td>\n      <td>155       WEST 44 STREET</td>\n      <td>...</td>\n      <td>None</td>\n      <td>None</td>\n      <td>None</td>\n      <td>4179544</td>\n      <td>Box Truck</td>\n      <td>Station Wagon/Sport Utility Vehicle</td>\n      <td>None</td>\n      <td>None</td>\n      <td>None</td>\n      <td>POINT (988519.261 214979.320)</td>\n    </tr>\n    <tr>\n      <th>4</th>\n      <td>07/30/2019</td>\n      <td>10:00</td>\n      <td>BROOKLYN</td>\n      <td>11223</td>\n      <td>40.600090</td>\n      <td>-73.965910</td>\n      <td>(40.60009, -73.96591)</td>\n      <td>AVENUE T</td>\n      <td>OCEAN PARKWAY</td>\n      <td>None</td>\n      <td>...</td>\n      <td>None</td>\n      <td>None</td>\n      <td>None</td>\n      <td>4180660</td>\n      <td>Station Wagon/Sport Utility Vehicle</td>\n      <td>Bike</td>\n      <td>None</td>\n      <td>None</td>\n      <td>None</td>\n      <td>POINT (993716.669 157907.212)</td>\n    </tr>\n  </tbody>\n</table>\n<p>5 rows × 30 columns</p>\n</div>"
          },
          "metadata": {}
        }
      ]
    },
    {
      "cell_type": "markdown",
      "metadata": {
        "id": "nzsWHoqdiFbO"
      },
      "source": [
        "Use the \"LATITUDE\" and \"LONGITUDE\" columns to create an interactive map to visualize the collision data.  What type of map do you think is most effective?"
      ]
    },
    {
      "cell_type": "code",
      "metadata": {
        "execution": {
          "iopub.status.busy": "2021-08-20T03:04:10.425671Z",
          "iopub.execute_input": "2021-08-20T03:04:10.425995Z",
          "iopub.status.idle": "2021-08-20T03:04:16.313943Z",
          "shell.execute_reply.started": "2021-08-20T03:04:10.425961Z",
          "shell.execute_reply": "2021-08-20T03:04:16.313156Z"
        },
        "trusted": true,
        "id": "hW7ZxGmgiFbP",
        "outputId": "7f5d96b1-31e4-4412-b89a-705e428f4108"
      },
      "source": [
        "m_1 = folium.Map(location=[40.7, -74], zoom_start=11) \n",
        "\n",
        "# Visualize the collision data\n",
        "HeatMap(data=collisions[['LATITUDE', 'LONGITUDE']], radius=9).add_to(m_1)\n",
        "\n",
        "# Show the map\n",
        "embed_map(m_1, \"q_1.html\")"
      ],
      "execution_count": null,
      "outputs": [
        {
          "execution_count": 13,
          "output_type": "execute_result",
          "data": {
            "text/plain": "<IPython.lib.display.IFrame at 0x7f437f051950>",
            "text/html": "\n        <iframe\n            width=\"100%\"\n            height=\"500px\"\n            src=\"q_1.html\"\n            frameborder=\"0\"\n            allowfullscreen\n        ></iframe>\n        "
          },
          "metadata": {}
        }
      ]
    },
    {
      "cell_type": "markdown",
      "metadata": {
        "id": "CtpDa9asiFbS"
      },
      "source": [
        "### 2) Understand hospital coverage.\n",
        "\n",
        "Run the next code cell to load the hospital data."
      ]
    },
    {
      "cell_type": "code",
      "metadata": {
        "execution": {
          "iopub.status.busy": "2021-08-20T03:04:16.320634Z",
          "iopub.execute_input": "2021-08-20T03:04:16.321001Z",
          "iopub.status.idle": "2021-08-20T03:04:16.511796Z",
          "shell.execute_reply.started": "2021-08-20T03:04:16.320971Z",
          "shell.execute_reply": "2021-08-20T03:04:16.510724Z"
        },
        "trusted": true,
        "id": "4VEn9EH-iFbT",
        "outputId": "07b9993b-cf68-472a-99d4-dc0681138275"
      },
      "source": [
        "hospitals = gpd.read_file(\"../input/geospatial-learn-course-data/nyu_2451_34494/nyu_2451_34494/nyu_2451_34494.shp\")\n",
        "hospitals.head()"
      ],
      "execution_count": null,
      "outputs": [
        {
          "execution_count": 15,
          "output_type": "execute_result",
          "data": {
            "text/plain": "               id                                               name  \\\n0  317000001H1178  BRONX-LEBANON HOSPITAL CENTER - CONCOURSE DIVI...   \n1  317000001H1164    BRONX-LEBANON HOSPITAL CENTER - FULTON DIVISION   \n2  317000011H1175                               CALVARY HOSPITAL INC   \n3  317000002H1165                              JACOBI MEDICAL CENTER   \n4  317000008H1172             LINCOLN MEDICAL & MENTAL HEALTH CENTER   \n\n                  address    zip factype   facname capacity capname  bcode  \\\n0    1650 Grand Concourse  10457    3102  Hospital      415    Beds  36005   \n1         1276 Fulton Ave  10456    3102  Hospital      164    Beds  36005   \n2  1740-70 Eastchester Rd  10461    3102  Hospital      225    Beds  36005   \n3        1400 Pelham Pkwy  10461    3102  Hospital      457    Beds  36005   \n4            234 E 149 St  10451    3102  Hospital      362    Beds  36005   \n\n      xcoord    ycoord   latitude  longitude                        geometry  \n0  1008872.0  246596.0  40.843490 -73.911010  POINT (1008872.000 246596.000)  \n1  1011044.0  242204.0  40.831429 -73.903178  POINT (1011044.000 242204.000)  \n2  1027505.0  248287.0  40.848060 -73.843656  POINT (1027505.000 248287.000)  \n3  1027042.0  251065.0  40.855687 -73.845311  POINT (1027042.000 251065.000)  \n4  1005154.0  236853.0  40.816758 -73.924478  POINT (1005154.000 236853.000)  ",
            "text/html": "<div>\n<style scoped>\n    .dataframe tbody tr th:only-of-type {\n        vertical-align: middle;\n    }\n\n    .dataframe tbody tr th {\n        vertical-align: top;\n    }\n\n    .dataframe thead th {\n        text-align: right;\n    }\n</style>\n<table border=\"1\" class=\"dataframe\">\n  <thead>\n    <tr style=\"text-align: right;\">\n      <th></th>\n      <th>id</th>\n      <th>name</th>\n      <th>address</th>\n      <th>zip</th>\n      <th>factype</th>\n      <th>facname</th>\n      <th>capacity</th>\n      <th>capname</th>\n      <th>bcode</th>\n      <th>xcoord</th>\n      <th>ycoord</th>\n      <th>latitude</th>\n      <th>longitude</th>\n      <th>geometry</th>\n    </tr>\n  </thead>\n  <tbody>\n    <tr>\n      <th>0</th>\n      <td>317000001H1178</td>\n      <td>BRONX-LEBANON HOSPITAL CENTER - CONCOURSE DIVI...</td>\n      <td>1650 Grand Concourse</td>\n      <td>10457</td>\n      <td>3102</td>\n      <td>Hospital</td>\n      <td>415</td>\n      <td>Beds</td>\n      <td>36005</td>\n      <td>1008872.0</td>\n      <td>246596.0</td>\n      <td>40.843490</td>\n      <td>-73.911010</td>\n      <td>POINT (1008872.000 246596.000)</td>\n    </tr>\n    <tr>\n      <th>1</th>\n      <td>317000001H1164</td>\n      <td>BRONX-LEBANON HOSPITAL CENTER - FULTON DIVISION</td>\n      <td>1276 Fulton Ave</td>\n      <td>10456</td>\n      <td>3102</td>\n      <td>Hospital</td>\n      <td>164</td>\n      <td>Beds</td>\n      <td>36005</td>\n      <td>1011044.0</td>\n      <td>242204.0</td>\n      <td>40.831429</td>\n      <td>-73.903178</td>\n      <td>POINT (1011044.000 242204.000)</td>\n    </tr>\n    <tr>\n      <th>2</th>\n      <td>317000011H1175</td>\n      <td>CALVARY HOSPITAL INC</td>\n      <td>1740-70 Eastchester Rd</td>\n      <td>10461</td>\n      <td>3102</td>\n      <td>Hospital</td>\n      <td>225</td>\n      <td>Beds</td>\n      <td>36005</td>\n      <td>1027505.0</td>\n      <td>248287.0</td>\n      <td>40.848060</td>\n      <td>-73.843656</td>\n      <td>POINT (1027505.000 248287.000)</td>\n    </tr>\n    <tr>\n      <th>3</th>\n      <td>317000002H1165</td>\n      <td>JACOBI MEDICAL CENTER</td>\n      <td>1400 Pelham Pkwy</td>\n      <td>10461</td>\n      <td>3102</td>\n      <td>Hospital</td>\n      <td>457</td>\n      <td>Beds</td>\n      <td>36005</td>\n      <td>1027042.0</td>\n      <td>251065.0</td>\n      <td>40.855687</td>\n      <td>-73.845311</td>\n      <td>POINT (1027042.000 251065.000)</td>\n    </tr>\n    <tr>\n      <th>4</th>\n      <td>317000008H1172</td>\n      <td>LINCOLN MEDICAL &amp; MENTAL HEALTH CENTER</td>\n      <td>234 E 149 St</td>\n      <td>10451</td>\n      <td>3102</td>\n      <td>Hospital</td>\n      <td>362</td>\n      <td>Beds</td>\n      <td>36005</td>\n      <td>1005154.0</td>\n      <td>236853.0</td>\n      <td>40.816758</td>\n      <td>-73.924478</td>\n      <td>POINT (1005154.000 236853.000)</td>\n    </tr>\n  </tbody>\n</table>\n</div>"
          },
          "metadata": {}
        }
      ]
    },
    {
      "cell_type": "markdown",
      "metadata": {
        "id": "7Deyp9m_iFbV"
      },
      "source": [
        "Use the \"latitude\" and \"longitude\" columns to visualize the hospital locations. "
      ]
    },
    {
      "cell_type": "code",
      "metadata": {
        "execution": {
          "iopub.status.busy": "2021-08-20T03:04:16.514962Z",
          "iopub.execute_input": "2021-08-20T03:04:16.515458Z",
          "iopub.status.idle": "2021-08-20T03:04:16.639265Z",
          "shell.execute_reply.started": "2021-08-20T03:04:16.515406Z",
          "shell.execute_reply": "2021-08-20T03:04:16.638324Z"
        },
        "trusted": true,
        "id": "gRSY7tr9iFbW",
        "outputId": "01d1c5c6-ad0a-44f6-85a6-3b981963b851"
      },
      "source": [
        "m_2 = folium.Map(location=[40.7, -74], zoom_start=11) \n",
        "\n",
        "# Visualize the hospital locations\n",
        "for idx, row in hospitals.iterrows():\n",
        "    Marker([row['latitude'], row['longitude']], popup=row['name']).add_to(m_2)\n",
        "\n",
        "        \n",
        "# Show the map\n",
        "embed_map(m_2, \"q_2.html\")"
      ],
      "execution_count": null,
      "outputs": [
        {
          "execution_count": 16,
          "output_type": "execute_result",
          "data": {
            "text/plain": "<IPython.lib.display.IFrame at 0x7f437f089590>",
            "text/html": "\n        <iframe\n            width=\"100%\"\n            height=\"500px\"\n            src=\"q_2.html\"\n            frameborder=\"0\"\n            allowfullscreen\n        ></iframe>\n        "
          },
          "metadata": {}
        }
      ]
    },
    {
      "cell_type": "code",
      "metadata": {
        "execution": {
          "iopub.status.busy": "2021-08-20T03:04:16.651707Z",
          "iopub.execute_input": "2021-08-20T03:04:16.652196Z",
          "iopub.status.idle": "2021-08-20T03:04:56.473448Z",
          "shell.execute_reply.started": "2021-08-20T03:04:16.652149Z",
          "shell.execute_reply": "2021-08-20T03:04:56.472404Z"
        },
        "trusted": true,
        "id": "5z-8vsW7iFbX",
        "outputId": "07dee7e1-5ad1-4d9d-ef8c-df06b2f35f37"
      },
      "source": [
        "coverage = gpd.GeoDataFrame(geometry=hospitals.geometry).buffer(10000)\n",
        "my_union = coverage.geometry.unary_union\n",
        "outside_range = collisions.loc[~collisions[\"geometry\"].apply(lambda x: my_union.contains(x))]"
      ],
      "execution_count": null,
      "outputs": [
        {
          "output_type": "display_data",
          "data": {
            "text/plain": "<IPython.core.display.Javascript object>",
            "application/javascript": "parent.postMessage({\"jupyterEvent\": \"custom.exercise_interaction\", \"data\": {\"outcomeType\": 1, \"valueTowardsCompletion\": 0.16666666666666666, \"interactionType\": 1, \"questionType\": 2, \"questionId\": \"3_Q3\", \"learnToolsVersion\": \"0.3.4\", \"failureMessage\": \"\", \"exceptionClass\": \"\", \"trace\": \"\"}}, \"*\")"
          },
          "metadata": {}
        },
        {
          "output_type": "display_data",
          "data": {
            "text/plain": "Correct",
            "text/markdown": "<span style=\"color:#33cc33\">Correct</span>"
          },
          "metadata": {}
        }
      ]
    },
    {
      "cell_type": "code",
      "metadata": {
        "execution": {
          "iopub.status.busy": "2021-08-20T03:04:56.479088Z",
          "iopub.execute_input": "2021-08-20T03:04:56.479491Z",
          "iopub.status.idle": "2021-08-20T03:04:56.496161Z",
          "shell.execute_reply.started": "2021-08-20T03:04:56.479462Z",
          "shell.execute_reply": "2021-08-20T03:04:56.495079Z"
        },
        "trusted": true,
        "id": "5S6l8_w2iFbY",
        "outputId": "d29b2faf-9378-46b1-8419-8fd192707ef9"
      },
      "source": [
        "percentage = round(100*len(outside_range)/len(collisions), 2)\n",
        "print(\"Percentage of collisions more than 10 km away from the closest hospital: {}%\".format(percentage))"
      ],
      "execution_count": null,
      "outputs": [
        {
          "name": "stdout",
          "text": "Percentage of collisions more than 10 km away from the closest hospital: 15.12%\n",
          "output_type": "stream"
        }
      ]
    },
    {
      "cell_type": "markdown",
      "metadata": {
        "id": "zevdmj_3iFbY"
      },
      "source": [
        "### 4) Make a recommender.\n",
        "\n",
        "When collisions occur in distant locations, it becomes even more vital that injured persons are transported to the nearest available hospital.\n",
        "\n",
        "With this in mind, you decide to create a recommender that:\n",
        "- takes the location of the crash (in EPSG 2263) as input,\n",
        "- finds the closest hospital (where distance calculations are done in EPSG 2263), and \n",
        "- returns the name of the closest hospital. "
      ]
    },
    {
      "cell_type": "code",
      "metadata": {
        "execution": {
          "iopub.status.busy": "2021-08-20T03:04:56.497819Z",
          "iopub.execute_input": "2021-08-20T03:04:56.498438Z",
          "iopub.status.idle": "2021-08-20T03:04:56.520347Z",
          "shell.execute_reply.started": "2021-08-20T03:04:56.498387Z",
          "shell.execute_reply": "2021-08-20T03:04:56.519550Z"
        },
        "trusted": true,
        "id": "Xz4Hna0ZiFba",
        "outputId": "6bd7473f-a056-46ec-913a-1f7d9f13b850"
      },
      "source": [
        "def best_hospital(collision_location):\n",
        "    idx_min = hospitals.geometry.distance(collision_location).idxmin()\n",
        "    my_hospital = hospitals.iloc[idx_min]\n",
        "    name = my_hospital[\"name\"]\n",
        "    return name\n",
        "\n",
        "# Test your function: this should suggest CALVARY HOSPITAL INC\n",
        "print(best_hospital(outside_range.geometry.iloc[0]))"
      ],
      "execution_count": null,
      "outputs": [
        {
          "name": "stdout",
          "text": "CALVARY HOSPITAL INC\n",
          "output_type": "stream"
        },
        {
          "output_type": "display_data",
          "data": {
            "text/plain": "<IPython.core.display.Javascript object>",
            "application/javascript": "parent.postMessage({\"jupyterEvent\": \"custom.exercise_interaction\", \"data\": {\"outcomeType\": 1, \"valueTowardsCompletion\": 0.16666666666666666, \"interactionType\": 1, \"questionType\": 2, \"questionId\": \"4_Q4\", \"learnToolsVersion\": \"0.3.4\", \"failureMessage\": \"\", \"exceptionClass\": \"\", \"trace\": \"\"}}, \"*\")"
          },
          "metadata": {}
        },
        {
          "output_type": "display_data",
          "data": {
            "text/plain": "Correct",
            "text/markdown": "<span style=\"color:#33cc33\">Correct</span>"
          },
          "metadata": {}
        }
      ]
    },
    {
      "cell_type": "markdown",
      "metadata": {
        "id": "YNpLwPP4iFba"
      },
      "source": [
        "### 5) Which hospital is under the highest demand?\n",
        "\n",
        "Considering only collisions in the `outside_range` DataFrame, which hospital is most recommended?  \n",
        "\n",
        "Your answer should be a Python string that exactly matches the name of the hospital returned by the function you created in **4)**."
      ]
    },
    {
      "cell_type": "code",
      "metadata": {
        "execution": {
          "iopub.status.busy": "2021-08-20T03:04:56.526814Z",
          "iopub.execute_input": "2021-08-20T03:04:56.527135Z",
          "iopub.status.idle": "2021-08-20T03:05:38.284072Z",
          "shell.execute_reply.started": "2021-08-20T03:04:56.527105Z",
          "shell.execute_reply": "2021-08-20T03:05:38.283360Z"
        },
        "trusted": true,
        "id": "zhGCae83iFbb",
        "outputId": "a6256ef2-2212-4463-f1c8-6754df0f93d7"
      },
      "source": [
        "highest_demand = outside_range.geometry.apply(best_hospital).value_counts().idxmax()"
      ],
      "execution_count": null,
      "outputs": [
        {
          "output_type": "display_data",
          "data": {
            "text/plain": "<IPython.core.display.Javascript object>",
            "application/javascript": "parent.postMessage({\"jupyterEvent\": \"custom.exercise_interaction\", \"data\": {\"outcomeType\": 1, \"valueTowardsCompletion\": 0.16666666666666666, \"interactionType\": 1, \"questionType\": 2, \"questionId\": \"5_Q5\", \"learnToolsVersion\": \"0.3.4\", \"failureMessage\": \"\", \"exceptionClass\": \"\", \"trace\": \"\"}}, \"*\")"
          },
          "metadata": {}
        },
        {
          "output_type": "display_data",
          "data": {
            "text/plain": "Correct",
            "text/markdown": "<span style=\"color:#33cc33\">Correct</span>"
          },
          "metadata": {}
        }
      ]
    },
    {
      "cell_type": "markdown",
      "metadata": {
        "id": "VnMiHFvYiFbb"
      },
      "source": [
        "### 6) Where should the city construct new hospitals?\n",
        "\n",
        "Run the next code cell (without changes) to visualize hospital locations, in addition to collisions that occurred more than 10 kilometers away from the closest hospital. "
      ]
    },
    {
      "cell_type": "code",
      "metadata": {
        "scrolled": true,
        "execution": {
          "iopub.status.busy": "2021-08-20T03:05:38.290403Z",
          "iopub.execute_input": "2021-08-20T03:05:38.290864Z",
          "iopub.status.idle": "2021-08-20T03:05:39.374197Z",
          "shell.execute_reply.started": "2021-08-20T03:05:38.290833Z",
          "shell.execute_reply": "2021-08-20T03:05:39.373278Z"
        },
        "trusted": true,
        "id": "8JpjbFXmiFbc",
        "outputId": "95fbec47-3269-43d1-9b40-3cd9407eb0f4"
      },
      "source": [
        "m_6 = folium.Map(location=[40.7, -74], zoom_start=11) \n",
        "\n",
        "coverage = gpd.GeoDataFrame(geometry=hospitals.geometry).buffer(10000)\n",
        "folium.GeoJson(coverage.geometry.to_crs(epsg=4326)).add_to(m_6)\n",
        "HeatMap(data=outside_range[['LATITUDE', 'LONGITUDE']], radius=9).add_to(m_6)\n",
        "folium.LatLngPopup().add_to(m_6)\n",
        "\n",
        "embed_map(m_6, 'm_6.html')"
      ],
      "execution_count": null,
      "outputs": [
        {
          "execution_count": 25,
          "output_type": "execute_result",
          "data": {
            "text/plain": "<IPython.lib.display.IFrame at 0x7f437f01ea90>",
            "text/html": "\n        <iframe\n            width=\"100%\"\n            height=\"500px\"\n            src=\"m_6.html\"\n            frameborder=\"0\"\n            allowfullscreen\n        ></iframe>\n        "
          },
          "metadata": {}
        }
      ]
    },
    {
      "cell_type": "markdown",
      "metadata": {
        "id": "dX9tABF0iFbc"
      },
      "source": [
        "Click anywhere on the map to see a pop-up with the corresponding location in latitude and longitude.\n",
        "\n",
        "The city of New York reaches out to you for help with deciding locations for two brand new hospitals.  They specifically want your help with identifying locations to bring the calculated percentage from step **3)** to less than ten percent.  Using the map (and without worrying about zoning laws or what potential buildings would have to be removed in order to build the hospitals), can you identify two locations that would help the city accomplish this goal?  \n",
        "\n",
        "Put the proposed latitude and longitude for hospital 1 in `lat_1` and `long_1`, respectively.  (Likewise for hospital 2.)\n",
        "\n",
        "Then, run the rest of the cell as-is to see the effect of the new hospitals.  Your answer will be marked correct, if the two new hospitals bring the percentage to less than ten percent."
      ]
    },
    {
      "cell_type": "code",
      "metadata": {
        "execution": {
          "iopub.status.busy": "2021-08-20T03:05:39.375491Z",
          "iopub.execute_input": "2021-08-20T03:05:39.375783Z",
          "iopub.status.idle": "2021-08-20T03:05:41.433202Z",
          "shell.execute_reply.started": "2021-08-20T03:05:39.375752Z",
          "shell.execute_reply": "2021-08-20T03:05:41.432206Z"
        },
        "trusted": true,
        "id": "LkzVqn74iFbc",
        "outputId": "d45096ce-efc1-424f-f2c2-ce65bf07876f"
      },
      "source": [
        "# Proposed location of hospital 1\n",
        "lat_1 = 40.6714\n",
        "long_1 = -73.8492\n",
        "\n",
        "# Proposed location of hospital 2\n",
        "lat_2 = 40.6702\n",
        "long_2 = -73.7612\n",
        "\n",
        "\n",
        "try:\n",
        "    new_df = pd.DataFrame(\n",
        "        {'Latitude': [lat_1, lat_2],\n",
        "         'Longitude': [long_1, long_2]})\n",
        "    new_gdf = gpd.GeoDataFrame(new_df, geometry=gpd.points_from_xy(new_df.Longitude, new_df.Latitude))\n",
        "    new_gdf.crs = {'init' :'epsg:4326'}\n",
        "    new_gdf = new_gdf.to_crs(epsg=2263)\n",
        "    # get new percentage\n",
        "    new_coverage = gpd.GeoDataFrame(geometry=new_gdf.geometry).buffer(10000)\n",
        "    new_my_union = new_coverage.geometry.unary_union\n",
        "    new_outside_range = outside_range.loc[~outside_range[\"geometry\"].apply(lambda x: new_my_union.contains(x))]\n",
        "    new_percentage = round(100*len(new_outside_range)/len(collisions), 2)\n",
        "    print(\"(NEW) Percentage of collisions more than 10 km away from the closest hospital: {}%\".format(new_percentage))\n",
        "    # Did you help the city to meet its goal?\n",
        "    q_6.check()\n",
        "    # make the map\n",
        "    m = folium.Map(location=[40.7, -74], zoom_start=11) \n",
        "    folium.GeoJson(coverage.geometry.to_crs(epsg=4326)).add_to(m)\n",
        "    folium.GeoJson(new_coverage.geometry.to_crs(epsg=4326)).add_to(m)\n",
        "    for idx, row in new_gdf.iterrows():\n",
        "        Marker([row['Latitude'], row['Longitude']]).add_to(m)\n",
        "    HeatMap(data=new_outside_range[['LATITUDE', 'LONGITUDE']], radius=9).add_to(m)\n",
        "    folium.LatLngPopup().add_to(m)\n",
        "    display(embed_map(m, 'q_6.html'))\n",
        "except:\n",
        "    q_6.hint()"
      ],
      "execution_count": null,
      "outputs": [
        {
          "name": "stderr",
          "text": "/opt/conda/lib/python3.7/site-packages/pyproj/crs/crs.py:53: FutureWarning: '+init=<authority>:<code>' syntax is deprecated. '<authority>:<code>' is the preferred initialization method. When making the change, be mindful of axis order changes: https://pyproj4.github.io/pyproj/stable/gotchas.html#axis-order-changes-in-proj-6\n  return _prepare_from_string(\" \".join(pjargs))\n",
          "output_type": "stream"
        },
        {
          "name": "stdout",
          "text": "(NEW) Percentage of collisions more than 10 km away from the closest hospital: 9.12%\n",
          "output_type": "stream"
        },
        {
          "output_type": "display_data",
          "data": {
            "text/plain": "<IPython.core.display.Javascript object>",
            "application/javascript": "parent.postMessage({\"jupyterEvent\": \"custom.exercise_interaction\", \"data\": {\"outcomeType\": 1, \"valueTowardsCompletion\": 0.16666666666666666, \"interactionType\": 1, \"questionType\": 2, \"questionId\": \"6_Q6\", \"learnToolsVersion\": \"0.3.4\", \"failureMessage\": \"\", \"exceptionClass\": \"\", \"trace\": \"\"}}, \"*\")"
          },
          "metadata": {}
        },
        {
          "output_type": "display_data",
          "data": {
            "text/plain": "Correct",
            "text/markdown": "<span style=\"color:#33cc33\">Correct</span>"
          },
          "metadata": {}
        },
        {
          "output_type": "display_data",
          "data": {
            "text/plain": "<IPython.lib.display.IFrame at 0x7f437f018150>",
            "text/html": "\n        <iframe\n            width=\"100%\"\n            height=\"500px\"\n            src=\"q_6.html\"\n            frameborder=\"0\"\n            allowfullscreen\n        ></iframe>\n        "
          },
          "metadata": {}
        }
      ]
    },
    {
      "cell_type": "markdown",
      "metadata": {
        "id": "ZuT1qc9iiFbd"
      },
      "source": [
        "# Congratulations!\n",
        "\n",
        "You have just completed the Geospatial Analysis micro-course!  Great job!"
      ]
    }
  ]
}